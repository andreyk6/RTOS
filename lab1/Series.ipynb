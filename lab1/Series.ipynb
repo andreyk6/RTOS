{
 "cells": [
  {
   "cell_type": "code",
   "execution_count": 1,
   "metadata": {
    "collapsed": false,
    "deletable": true,
    "editable": true
   },
   "outputs": [],
   "source": [
    "# series.py\n",
    "\n",
    "from decimal import Decimal\n",
    "\n",
    "series_pow = Decimal(-1.0) / Decimal(3)\n",
    "\n",
    "\n",
    "def nth_term(n):\n",
    "    if n < 1:\n",
    "        raise AttributeError('n should be bigger than zero.')\n",
    "    return Decimal(n + 6) ** series_pow\n",
    "\n",
    "\n",
    "def partial_sum(n, polynomial=nth_term):\n",
    "    if n < 1:\n",
    "        raise AttributeError('n should be bigger than zero.')\n",
    "    res = Decimal(0)\n",
    "    for i in range(1,n + 1):\n",
    "        next_term = polynomial(i)\n",
    "        res = res + next_term\n",
    "    return res"
   ]
  },
  {
   "cell_type": "code",
   "execution_count": 2,
   "metadata": {
    "collapsed": false,
    "deletable": true,
    "editable": true
   },
   "outputs": [],
   "source": [
    "from sys import argv\n",
    "import numpy as np\n",
    "import matplotlib.pyplot as plt\n",
    "from sympy import integrate, oo, limit\n",
    "from sympy.abc import x\n",
    "import math"
   ]
  },
  {
   "cell_type": "code",
   "execution_count": 3,
   "metadata": {
    "collapsed": true,
    "deletable": true,
    "editable": true
   },
   "outputs": [],
   "source": [
    "# number of terms\n",
    "n = 10000"
   ]
  },
  {
   "cell_type": "code",
   "execution_count": 4,
   "metadata": {
    "collapsed": true,
    "deletable": true,
    "editable": true
   },
   "outputs": [],
   "source": [
    "terms = np.zeros(n, Decimal)\n",
    "sums = np.zeros(n, Decimal)\n",
    "\n",
    "padding = len(argv[1])\n",
    "# calculate n terms\n",
    "for i in range(0, n):\n",
    "    index = i + 1\n",
    "    terms[i] = (nth_term(index))\n",
    "\n",
    "sums[0] = nth_term(1)\n",
    "for i in range(1, n):\n",
    "    # calculate n partial sums\n",
    "    sums[i] = sums[i - 1] + terms[i]"
   ]
  },
  {
   "cell_type": "code",
   "execution_count": 5,
   "metadata": {
    "collapsed": false,
    "deletable": true,
    "editable": true
   },
   "outputs": [
    {
     "name": "stdout",
     "output_type": "stream",
     "text": [
      "d'Alembert ratio: can't state | 0.9999666855448332640079436211\n"
     ]
    }
   ],
   "source": [
    "# check d'Alambert ratio\n",
    "x0 = math.inf\n",
    "ratio_limit = limit((x + 7) ** (-1/3) / ((x + 6) ** (-1/3)), x, x0)\n",
    "\n",
    "convergence = \"divergent\"\n",
    "if ratio_limit < 1:\n",
    "    convergence = \"convergent\"\n",
    "elif ratio_limit == 1:\n",
    "    convergence = \"can't state\"\n",
    "    \n",
    "print(\"d'Alembert ratio: %s | %s\" % (convergence, terms[n - 1] / terms[n - 2]))"
   ]
  },
  {
   "cell_type": "code",
   "execution_count": 6,
   "metadata": {
    "collapsed": false,
    "deletable": true,
    "editable": true
   },
   "outputs": [
    {
     "name": "stdout",
     "output_type": "stream",
     "text": [
      "Cauchy ratio: divergent\n"
     ]
    }
   ],
   "source": [
    "# check Cauchy ratio\n",
    "I = integrate((x + 6) ** (-1 / 3), x, (x, 1, oo))\n",
    "is_convergent = I != math.inf and I != -math.inf\n",
    "print(\"Cauchy ratio: %s\" % (\"convergent\" if is_convergent else \"divergent\"))"
   ]
  },
  {
   "cell_type": "code",
   "execution_count": 7,
   "metadata": {
    "collapsed": false,
    "deletable": true,
    "editable": true
   },
   "outputs": [
    {
     "data": {
      "image/png": "[encoded data removed]",
      "text/plain": [
       "<matplotlib.figure.Figure at 0x6fe5d50>"
      ]
     },
     "metadata": {},
     "output_type": "display_data"
    }
   ],
   "source": [
    "# partial sums plot\n",
    "plt.plot(range(1, n + 1), sums)\n",
    "plt.title(\"Partial sum of series\")\n",
    "plt.ylabel(\"\\u03A3\\u1D62\")\n",
    "plt.xlabel(\"n\")\n",
    "plt.show()"
   ]
  },
  {
   "cell_type": "code",
   "execution_count": 8,
   "metadata": {
    "collapsed": false,
    "deletable": true,
    "editable": true
   },
   "outputs": [
    {
     "data": {
      "image/png": "[encoded data removed]",
      "text/plain": [
       "<matplotlib.figure.Figure at 0x6fe5ef0>"
      ]
     },
     "metadata": {},
     "output_type": "display_data"
    }
   ],
   "source": [
    "# terms plot\n",
    "plt.plot(range(1, n+1), terms)\n",
    "plt.title(\"Series terms\")\n",
    "plt.ylabel(\"n\\u1D62\")\n",
    "plt.xlabel(\"i\")\n",
    "plt.show()"
   ]
  }
 ],
 "metadata": {
  "kernelspec": {
   "display_name": "Python 3",
   "language": "python",
   "name": "python3"
  },
  "language_info": {
   "codemirror_mode": {
    "name": "ipython",
    "version": 3
   },
   "file_extension": ".py",
   "mimetype": "text/x-python",
   "name": "python",
   "nbconvert_exporter": "python",
   "pygments_lexer": "ipython3",
   "version": "3.6.0"
  }
 },
 "nbformat": 4,
 "nbformat_minor": 0
}
